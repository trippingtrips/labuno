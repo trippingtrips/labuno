{
 "cells": [
  {
   "cell_type": "markdown",
   "metadata": {},
   "source": [
    "### Parte 1 (Programacion y Sintaxis):"
   ]
  },
  {
   "cell_type": "markdown",
   "metadata": {},
   "source": [
    "##### 1. Haga un programa en Python que reciba de par´ametro un n´umero de segundos y que despliegue en pantalla, las horas, minutos y segundos que representan. "
   ]
  },
  {
   "cell_type": "code",
   "execution_count": 43,
   "metadata": {
    "scrolled": true
   },
   "outputs": [
    {
     "name": "stdout",
     "output_type": "stream",
     "text": [
      "Hola, Introduce el número de segundos que quieras convertir:\n",
      "1600\n",
      "0 hrs : 26 mins : 40 segs\n"
     ]
    }
   ],
   "source": [
    "import math\n",
    "\n",
    "n = input('Hola, Introduce el número de segundos que quieras convertir:\\n')\n",
    "n = int(n)\n",
    "minutos = n / 60\n",
    "horas = minutos/60\n",
    "minutos1 = math.floor(n/60)\n",
    "segundos = n\n",
    "\n",
    "if horas%2 == 0 or (horas+1)%2 == 0:\n",
    "    horas1 = round(minutos/60)   \n",
    "else:\n",
    "    horas1 = math.floor(segundos/3600)\n",
    "    \n",
    "if n%2 == 0 or (n+1)%2 == 0:\n",
    "    segundos1 = abs(round((minutos1 - minutos) * 60))\n",
    "else:\n",
    "    segundos1 = 0\n",
    "\n",
    "if minutos1 > 60:\n",
    "    minutos1 = minutos1 -60\n",
    "\n",
    "print(horas1, 'hrs', ':', minutos1, 'mins', ':', segundos1, 'segs')"
   ]
  },
  {
   "cell_type": "markdown",
   "metadata": {},
   "source": [
    "##### 2. Haga una funcioon en Python que dado un n´umero entre 1 y 20. Y un caracter cualquiera despliegue cuatro patrones triangulares.\n"
   ]
  },
  {
   "cell_type": "code",
   "execution_count": 47,
   "metadata": {},
   "outputs": [
    {
     "name": "stdout",
     "output_type": "stream",
     "text": [
      "Introduzca un numero: \n",
      "5\n",
      "Que simbolo te gusta: *\n",
      "*\n",
      "**\n",
      "***\n",
      "****\n",
      "*****\n"
     ]
    }
   ],
   "source": [
    "n = int(input(\"Introduzca un numero: \\n\"))\n",
    "symbol = input(\"Que simbolo te gusta: \")\n",
    "\n",
    "\n",
    "  \n",
    "for i in range(0, n):     \n",
    "        for j in range(0, i + 1):  \n",
    "              \n",
    "            print(symbol, end=\"\")       \n",
    "  \n",
    "          \n",
    "        print()  \n",
    "        \n"
   ]
  },
  {
   "cell_type": "markdown",
   "metadata": {},
   "source": [
    "##### 3. Haga un programa en Python que la fecha de nacimiento de una persona (puede ingresar por separado cada valor, es decir pedir primero dia, luego mes y luego ano), despliegue la edad de la persona en anos, meses y dias. Su resultado puede ser aproximado"
   ]
  },
  {
   "cell_type": "code",
   "execution_count": 50,
   "metadata": {},
   "outputs": [
    {
     "name": "stdout",
     "output_type": "stream",
     "text": [
      "Año en el que naciste: 1994\n",
      "Mes en el que naciste (num): 07\n",
      "Dia en el que naciste: 05\n",
      "26 años 7 meses 16 dias\n"
     ]
    }
   ],
   "source": [
    "\n",
    "import datetime\n",
    "year = int(input('Año en el que naciste: '))\n",
    "month = int(input('Mes en el que naciste (num): '))\n",
    "day = int(input('Dia en el que naciste: '))\n",
    "\n",
    "year1 = datetime.datetime.now().year - year\n",
    "month1 = datetime.datetime.now().month - month\n",
    "days1 = datetime.datetime.now().day - day\n",
    "\n",
    "if month1 < 0:\n",
    "    month2 = 12 - month + datetime.datetime.now().month \n",
    "else:\n",
    "    month2 = datetime.datetime.now().month - month\n",
    "    \n",
    "if month > datetime.datetime.now().month:\n",
    "    year2 = datetime.datetime.now().year - year - 1\n",
    "else:\n",
    "    year2 = datetime.datetime.now().year - year\n",
    "    \n",
    "if month == 2: \n",
    "    day2 = 28 - day + datetime.datetime.now().day\n",
    "elif day % 2 == 0 and day > datetime.datetime.now().day:\n",
    "    day2 = 30 - day + datetime.datetime.now().day\n",
    "else:\n",
    "    day2 = datetime.datetime.now().day - day\n",
    "    \n",
    "print(year2,'años', month2, 'meses', days1, 'dias')\n",
    "\n",
    "\n"
   ]
  },
  {
   "cell_type": "markdown",
   "metadata": {},
   "source": [
    "### Parte #2 - (Estructuras de Datos): "
   ]
  },
  {
   "cell_type": "markdown",
   "metadata": {},
   "source": [
    "##### 1. Escriba una funcion en Python que dada una tupla de elementos (numeros o letras) esta se convierta a un string."
   ]
  },
  {
   "cell_type": "code",
   "execution_count": 26,
   "metadata": {},
   "outputs": [
    {
     "name": "stdout",
     "output_type": "stream",
     "text": [
      "102040570\n"
     ]
    }
   ],
   "source": [
    "tupla = ('10', '20', '40', '5', '70')\n",
    "string = ''\n",
    "\n",
    "for item in tupla:\n",
    "    string = string + item\n",
    "\n",
    "print(string)"
   ]
  },
  {
   "cell_type": "markdown",
   "metadata": {},
   "source": [
    "##### 2. Cree un programa en Python que dada una lista de tuplas, elimine las tuplas que estan vacias. \n"
   ]
  },
  {
   "cell_type": "code",
   "execution_count": 32,
   "metadata": {},
   "outputs": [
    {
     "name": "stdout",
     "output_type": "stream",
     "text": [
      "[('X',), ('a', 'b'), ('a', 'b', 'c'), 'd']\n"
     ]
    }
   ],
   "source": [
    "lista = [(), (), ('X',), ('a', 'b'), ('a', 'b', 'c'), ('d')]\n",
    "\n",
    "lista = [l for l in lista if l]\n",
    "print(lista)\n"
   ]
  },
  {
   "cell_type": "markdown",
   "metadata": {},
   "source": [
    "#### 3. Cree una funcion en Python que dada una tupla de tuplas con numeros, produzca una tupla con el promedio de cada tupla individual."
   ]
  },
  {
   "cell_type": "code",
   "execution_count": 53,
   "metadata": {},
   "outputs": [
    {
     "ename": "TypeError",
     "evalue": "'tuple' object cannot be interpreted as an integer",
     "output_type": "error",
     "traceback": [
      "\u001b[1;31m---------------------------------------------------------------------------\u001b[0m",
      "\u001b[1;31mTypeError\u001b[0m                                 Traceback (most recent call last)",
      "\u001b[1;32m<ipython-input-53-fd56e69001f2>\u001b[0m in \u001b[0;36m<module>\u001b[1;34m\u001b[0m\n\u001b[0;32m      2\u001b[0m \u001b[1;33m\u001b[0m\u001b[0m\n\u001b[0;32m      3\u001b[0m \u001b[1;33m\u001b[0m\u001b[0m\n\u001b[1;32m----> 4\u001b[1;33m \u001b[0mtupla\u001b[0m \u001b[1;33m=\u001b[0m \u001b[0mint\u001b[0m\u001b[1;33m(\u001b[0m\u001b[1;33m(\u001b[0m\u001b[1;36m10\u001b[0m\u001b[1;33m,\u001b[0m \u001b[1;36m10\u001b[0m\u001b[1;33m,\u001b[0m \u001b[1;36m10\u001b[0m\u001b[1;33m,\u001b[0m \u001b[1;36m12\u001b[0m\u001b[1;33m)\u001b[0m\u001b[1;33m,\u001b[0m \u001b[1;33m(\u001b[0m\u001b[1;36m30\u001b[0m\u001b[1;33m,\u001b[0m \u001b[1;36m45\u001b[0m\u001b[1;33m,\u001b[0m \u001b[1;36m56\u001b[0m\u001b[1;33m,\u001b[0m \u001b[1;36m45\u001b[0m\u001b[1;33m)\u001b[0m\u001b[1;33m)\u001b[0m\u001b[1;33m\u001b[0m\u001b[1;33m\u001b[0m\u001b[0m\n\u001b[0m\u001b[0;32m      5\u001b[0m \u001b[1;33m\u001b[0m\u001b[0m\n\u001b[0;32m      6\u001b[0m \u001b[0mmean\u001b[0m\u001b[1;33m(\u001b[0m\u001b[0mtupla\u001b[0m\u001b[1;33m)\u001b[0m\u001b[1;33m\u001b[0m\u001b[1;33m\u001b[0m\u001b[0m\n",
      "\u001b[1;31mTypeError\u001b[0m: 'tuple' object cannot be interpreted as an integer"
     ]
    }
   ],
   "source": [
    "from statistics import mean\n",
    "    \n",
    "    \n",
    "tupla = int((10, 10, 10, 12), (30, 45, 56, 45))\n",
    "\n",
    "mean(tupla)"
   ]
  },
  {
   "cell_type": "code",
   "execution_count": null,
   "metadata": {},
   "outputs": [],
   "source": []
  }
 ],
 "metadata": {
  "kernelspec": {
   "display_name": "Python 3",
   "language": "python",
   "name": "python3"
  },
  "language_info": {
   "codemirror_mode": {
    "name": "ipython",
    "version": 3
   },
   "file_extension": ".py",
   "mimetype": "text/x-python",
   "name": "python",
   "nbconvert_exporter": "python",
   "pygments_lexer": "ipython3",
   "version": "3.7.4"
  }
 },
 "nbformat": 4,
 "nbformat_minor": 2
}
